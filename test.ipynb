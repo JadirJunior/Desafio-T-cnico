{
 "cells": [
  {
   "cell_type": "markdown",
   "metadata": {},
   "source": [
    "## Exercício 1\n",
    "Dado a sequência de Fibonacci, onde se inicia por 0 e 1 e o próximo valor sempre será a soma dos 2 valores anteriores (exemplo: 0, 1, 1, 2, 3, 5, 8, 13, 21, 34...), escreva um programa na linguagem que desejar onde, informado um número, ele calcule a sequência de Fibonacci e retorne uma mensagem avisando se o número informado pertence ou não a sequência."
   ]
  },
  {
   "cell_type": "code",
   "execution_count": 1,
   "metadata": {},
   "outputs": [
    {
     "name": "stdout",
     "output_type": "stream",
     "text": [
      "O número 15 não pertence a sequência de Fibonacci\n"
     ]
    }
   ],
   "source": [
    "n = int(input('Digite o número que deseja:'))\n",
    "\n",
    "fib = [0, 1]\n",
    "val = -1\n",
    "\n",
    "if (n == fib[0] or n == fib[1]):\n",
    "    print('O número', n, 'pertence a sequência de Fibonacci')\n",
    "\n",
    "else:\n",
    "    while (val < n):\n",
    "        val = fib[0] + fib[1]\n",
    "        fib[0] = fib[1]\n",
    "        fib[1] = val\n",
    "    if (val != n):\n",
    "        print('O número', n, 'não pertence a sequência de Fibonacci')\n",
    "    else:\n",
    "        print('O número', n, 'pertence a sequência de Fibonacci')"
   ]
  },
  {
   "cell_type": "markdown",
   "metadata": {},
   "source": [
    "## Exercício 2\n",
    "Escreva um programa que verifique, em uma string, a existência da letra ‘a’, seja maiúscula ou minúscula, além de informar a quantidade de vezes em que ela ocorre."
   ]
  },
  {
   "cell_type": "code",
   "execution_count": 2,
   "metadata": {},
   "outputs": [
    {
     "name": "stdout",
     "output_type": "stream",
     "text": [
      "A letra \"a\" aparece  6  vezes\n"
     ]
    }
   ],
   "source": [
    "s = input('Digite a palavra que deseja analisar:')\n",
    "s = s.lower()\n",
    "\n",
    "\n",
    "if (s.count('a') == 0):\n",
    "    print('A letra \"a\" não aparece ')\n",
    "else:\n",
    "    print('A letra \"a\" aparece ', s.count('a'), ' vezes')"
   ]
  },
  {
   "cell_type": "markdown",
   "metadata": {},
   "source": [
    "## Exercício 3\n",
    "> Observe o trecho de código abaixo: int INDICE = 12, SOMA = 0, K = 1; enquanto K < INDICE faça { K = K + 1; SOMA = SOMA + K; } imprimir(SOMA); \n",
    "\n",
    "> Ao final do processamento, qual será o valor da variável SOMA?\n",
    "\n",
    "`Resposta: 77`"
   ]
  },
  {
   "cell_type": "markdown",
   "metadata": {},
   "source": [
    "## Exercício 4\n",
    "\n",
    "> Descubra a lógica e complete o próximo elemento:\n",
    "\n",
    "> a) 1, 3, 5, 7, `9`\n",
    "\n",
    "> b) 2, 4, 8, 16, 32, 64, `128`\n",
    "\n",
    "> c) 0, 1, 4, 9, 16, 25, 36, `49`\n",
    "\n",
    "> d) 4, 16, 36, 64, `100`\n",
    "\n",
    "> e) 1, 1, 2, 3, 5, 8, `13`\n",
    "\n",
    "> f) 2, 10, 12, 16, 17, 18, 19, `200`"
   ]
  },
  {
   "cell_type": "markdown",
   "metadata": {},
   "source": [
    "# Exercício 5\n",
    "\n",
    "> Você está em uma sala com três interruptores, cada um conectado a uma lâmpada em salas diferentes. Você não pode ver as lâmpadas da sala em que está, mas pode ligar e desligar os interruptores quantas vezes quiser. Seu objetivo é descobrir qual interruptor controla qual lâmpada. Como você faria para descobrir, usando apenas duas idas até uma das salas das lâmpadas, qual interruptor controla cada lâmpada?\n",
    "\n",
    "> Para resolver esse problema devemos considerar alguns casos distintos. Para facilitar a explicação vamos considerar que os interruptores serão identificados por \"1, 2 e 3\", à medida que consideraremos as salas como sendo \"A, B, C\"\n",
    "\n",
    "> Inicialmente ligaremos o interruptor por cerca de 30 minutos e então o desligaremos para acionarmos o interruptor 2 e verificarmos as salas. \n",
    "\n",
    "> Caso 1 - Lâmpada \"A\" desligada e fria: Se a lâmpada da sala A estiver desligada e fria, significa que ela é controlada pelo interruptor 3. Ao ir até a sala B verificamos se a lâmpada está ligada, então ela é controlada pelo interruptor 2. Assim, a lâmpada da sala C é controlada pelo interruptor 1. Se a lâmpada da sala B estiver desligada, mas ainda quente, ela é controlada pelo interruptor 1. Assim, a lâmpada da sala C é controlada pelo interruptor 2.\n",
    "\n",
    "> Caso 2 - Lâmpada \"A\" desligada e quente: Se a lâmpada da sala A estiver desligada e quente, isso significa que ela é controlada pelo interruptor 1 (que foi ligado e depois desligado). Ao ir até a sala B verificaremos se a lâmpada está ligada, então ela é controlada pelo interruptor 2. Assim, a lâmpada da sala C é controlada pelo interruptor 3. Se a lâmpada da sala B estiver desligada e fria, então ela é controlada pelo interruptor 3. Assim, a lâmpada da sala C é controlada pelo interruptor 2.\n",
    "\n",
    "\n",
    "> Caso 3 - Lâmpada \"A\" ligada: Se a lâmpada da sala A estiver ligada, isso significa que ela é controlada pelo interruptor 2 (que ainda está ligado). Ao ir até a sala B verificamos se a lâmpada está desligada e quente, então ela é controlada pelo interruptor 1. Assim, a lâmpada da sala C é controlada pelo interruptor 3. Se a lâmpada da sala B estiver desligada e fria, então ela é controlada pelo interruptor 3. Assim, a lâmpada da sala C é controlada pelo interruptor 1.\n",
    "\n",
    "\n",
    "\n",
    "\n",
    "\n",
    "\n",
    "\n"
   ]
  },
  {
   "cell_type": "markdown",
   "metadata": {},
   "source": []
  }
 ],
 "metadata": {
  "kernelspec": {
   "display_name": "Python 3",
   "language": "python",
   "name": "python3"
  },
  "language_info": {
   "codemirror_mode": {
    "name": "ipython",
    "version": 3
   },
   "file_extension": ".py",
   "mimetype": "text/x-python",
   "name": "python",
   "nbconvert_exporter": "python",
   "pygments_lexer": "ipython3",
   "version": "3.12.2"
  }
 },
 "nbformat": 4,
 "nbformat_minor": 2
}
